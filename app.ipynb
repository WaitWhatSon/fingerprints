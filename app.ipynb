{
 "cells": [
  {
   "cell_type": "markdown",
   "id": "90fa7297-e56d-4a90-9202-f7c96f19df80",
   "metadata": {},
   "source": [
    "### interfejs graficzny\n",
    "https://realpython.com/python-gui-tkinter/#building-your-first-python-gui-application-with-tkinter\n",
    "\n",
    "### obrazek z urla\n",
    "https://www.daniweb.com/programming/software-development/code/440946/display-an-image-from-a-url-tkinter-python"
   ]
  },
  {
   "cell_type": "code",
   "execution_count": 1,
   "id": "a4f5ec6b-6ca4-40ba-8e02-56041b666f73",
   "metadata": {},
   "outputs": [],
   "source": [
    "import tkinter as tk"
   ]
  },
  {
   "cell_type": "code",
   "execution_count": 2,
   "id": "228d8310-77f2-48fb-84d7-be4617d2e211",
   "metadata": {},
   "outputs": [],
   "source": [
    "import io"
   ]
  },
  {
   "cell_type": "code",
   "execution_count": 3,
   "id": "00523f99-cc44-41c9-82b9-8951aecc1b39",
   "metadata": {},
   "outputs": [],
   "source": [
    "from urllib.request import urlopen"
   ]
  },
  {
   "cell_type": "code",
   "execution_count": 4,
   "id": "049a2150-4943-478b-99b3-1c0c98ad4cab",
   "metadata": {},
   "outputs": [],
   "source": [
    "import base64"
   ]
  },
  {
   "cell_type": "code",
   "execution_count": null,
   "id": "a9448afa-ef33-483b-b2aa-93fa9aa55927",
   "metadata": {},
   "outputs": [],
   "source": []
  },
  {
   "cell_type": "code",
   "execution_count": 13,
   "id": "5ffdc30c-3f57-4ba7-8182-984663786e91",
   "metadata": {},
   "outputs": [],
   "source": [
    "# image_url = \"https://upload.wikimedia.org/wikipedia/en/7/7d/Lenna_%28test_image%29.png\"\n",
    "# image_byt = urlopen(image_url).read()\n",
    "# image_b64 = base64.b64encode(image_byt)"
   ]
  },
  {
   "cell_type": "code",
   "execution_count": 14,
   "id": "8c685cb1-1d63-47f6-bb4b-4384693d8bec",
   "metadata": {},
   "outputs": [],
   "source": [
    "window = tk.Tk()\n",
    "\n",
    "greeting = tk.Label(window, text=\"Hello, Tkinter\")\n",
    "greeting.pack()\n",
    "\n",
    "canvas = tk.Canvas(window, width=512, height=512, bg='white')\n",
    "canvas.pack(expand='yes')\n",
    "\n",
    "window.image = tk.PhotoImage(file='Lenna.png')\n",
    "canvas.create_image(0, 0, anchor='nw', image=window.image)\n",
    "\n",
    "window.mainloop()"
   ]
  },
  {
   "cell_type": "code",
   "execution_count": 36,
   "id": "b5e17e74-3a9e-438c-a5bf-a185ed16595e",
   "metadata": {},
   "outputs": [],
   "source": []
  },
  {
   "cell_type": "code",
   "execution_count": 37,
   "id": "d6bef5fa-7ba1-4d4f-9afe-e21171df337e",
   "metadata": {},
   "outputs": [],
   "source": []
  },
  {
   "cell_type": "code",
   "execution_count": null,
   "id": "0809c980-4b08-4e56-910a-9886feef42bc",
   "metadata": {},
   "outputs": [],
   "source": []
  },
  {
   "cell_type": "code",
   "execution_count": 38,
   "id": "fe72bae7-0360-4364-bd5a-abbe31f3c9b1",
   "metadata": {},
   "outputs": [],
   "source": []
  },
  {
   "cell_type": "code",
   "execution_count": null,
   "id": "9c85344e-5e77-47e3-91d6-519fb176d98a",
   "metadata": {},
   "outputs": [],
   "source": []
  },
  {
   "cell_type": "code",
   "execution_count": 75,
   "id": "65448d18-3513-427f-8e6e-311f894b724e",
   "metadata": {},
   "outputs": [],
   "source": []
  },
  {
   "cell_type": "code",
   "execution_count": null,
   "id": "f8d5cb55-2e8b-4596-88a5-eb6a8684fdb1",
   "metadata": {},
   "outputs": [],
   "source": []
  }
 ],
 "metadata": {
  "kernelspec": {
   "display_name": "Python 3 (ipykernel)",
   "language": "python",
   "name": "python3"
  },
  "language_info": {
   "codemirror_mode": {
    "name": "ipython",
    "version": 3
   },
   "file_extension": ".py",
   "mimetype": "text/x-python",
   "name": "python",
   "nbconvert_exporter": "python",
   "pygments_lexer": "ipython3",
   "version": "3.8.13"
  }
 },
 "nbformat": 4,
 "nbformat_minor": 5
}
